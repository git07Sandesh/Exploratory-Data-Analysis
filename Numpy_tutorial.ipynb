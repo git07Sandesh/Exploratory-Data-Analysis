{
  "nbformat": 4,
  "nbformat_minor": 0,
  "metadata": {
    "colab": {
      "provenance": []
    },
    "kernelspec": {
      "name": "python3",
      "display_name": "Python 3"
    },
    "language_info": {
      "name": "python"
    }
  },
  "cells": [
    {
      "cell_type": "markdown",
      "source": [
        "#Welcome to Numpy Tutorial.\n",
        "This is a simple guide for those willing to learn the basics of Numpy for exploratory data analysis in machine learning. This is a quick recap module for getting started.\n",
        "\n",
        "\n",
        "\n"
      ],
      "metadata": {
        "id": "0Mmf3Ba-AkNg"
      }
    },
    {
      "cell_type": "markdown",
      "source": [
        "#Numpy - Numerical Python\n",
        "It is a popular python library written in C to make calculation process easier and faster for large multi-dimensional arrays and matrices.\n"
      ],
      "metadata": {
        "id": "Yhn73Kv3A_3Z"
      }
    },
    {
      "cell_type": "code",
      "source": [
        "#Simple way to create numPy arrayS:\n",
        "import numpy as np\n",
        "a = np.array(20)\n",
        "b = np.array([1, 2, 3, 4, 5])\n",
        "c = np.array([[1, 2, 3], [4, 5, 6]])\n",
        "d = np.array([[[1, 2, 3], [4, 5, 6]], [[1, 2, 3], [4, 5, 6]]])\n",
        "print(a)\n",
        "print(b)\n",
        "print(c)\n",
        "print(d)\n",
        "arr = np.array([[1, 2, 3, 4], [2,3,4,5]], ndmin=4)\n",
        "print(arr)\n",
        "\n",
        "#Indexing is also similar to c++ and python list:\n",
        "\n",
        "arr1 = np.array([[[1, 2, 3], [4, 5, 6]], [[7, 8, 9], [10, 11, 12]]])\n",
        "\n",
        "print(arr1[0, 1, 2])"
      ],
      "metadata": {
        "colab": {
          "base_uri": "https://localhost:8080/"
        },
        "id": "FCb5MGWcnnl1",
        "outputId": "36f69a30-1cd2-435e-8637-e5c0df4df860"
      },
      "execution_count": null,
      "outputs": [
        {
          "output_type": "stream",
          "name": "stdout",
          "text": [
            "20\n",
            "[1 2 3 4 5]\n",
            "[[1 2 3]\n",
            " [4 5 6]]\n",
            "[[[1 2 3]\n",
            "  [4 5 6]]\n",
            "\n",
            " [[1 2 3]\n",
            "  [4 5 6]]]\n",
            "[[[[1 2 3 4]\n",
            "   [2 3 4 5]]]]\n",
            "6\n"
          ]
        }
      ]
    },
    {
      "cell_type": "markdown",
      "source": [
        "#Creating Arrays (1d)\n",
        "1. From Python List: [1,2,3,4]\n",
        "2. From Python Tuple: (1, 2,3,4)\n",
        "3. fromiter() function"
      ],
      "metadata": {
        "id": "lSUdZRpzBfuW"
      }
    },
    {
      "cell_type": "code",
      "source": [
        "import numpy as np\n",
        "\n",
        "li = [1, 2, 3, 4]\n",
        "print(np.array(li))\n",
        "\n",
        "# create a NumPy array from a tuple\n",
        "tup = (5, 6, 7, 8)\n",
        "print(np.array(tup))\n",
        "\n",
        "# create a NumPy array using fromiter()\n",
        "iterable = (a for a in range(8))\n",
        "print(np.fromiter(iterable, float))"
      ],
      "metadata": {
        "colab": {
          "base_uri": "https://localhost:8080/"
        },
        "id": "RSlK9DKsAjxk",
        "outputId": "f0557d35-01de-4949-912d-0c6422024377"
      },
      "execution_count": null,
      "outputs": [
        {
          "output_type": "stream",
          "name": "stdout",
          "text": [
            "[1 2 3 4]\n",
            "[5 6 7 8]\n",
            "[0. 1. 2. 3. 4. 5. 6. 7.]\n"
          ]
        }
      ]
    },
    {
      "cell_type": "markdown",
      "source": [
        "#Creating MultiDimensional Array:\n",
        "1. From Python List\n",
        "2. Using empty()"
      ],
      "metadata": {
        "id": "LbkyG68ICBIn"
      }
    },
    {
      "cell_type": "code",
      "source": [
        "list_1 = [1, 2, 3, 4]\n",
        "list_2 = [5, 6, 7, 8]\n",
        "list_3 = [9, 10, 11, 12]\n",
        "print(np.array([list_1, list_2, list_3]))\n",
        "\n",
        "# create a NumPy array using numpy.empty()\n",
        "print(np.empty([4, 3], int))"
      ],
      "metadata": {
        "colab": {
          "base_uri": "https://localhost:8080/"
        },
        "id": "7qjOgBRMCLva",
        "outputId": "ff336255-3673-4b06-dc51-7e161379ffde"
      },
      "execution_count": null,
      "outputs": [
        {
          "output_type": "stream",
          "name": "stdout",
          "text": [
            "[[ 1  2  3  4]\n",
            " [ 5  6  7  8]\n",
            " [ 9 10 11 12]]\n",
            "[[ 1  2  3]\n",
            " [ 4  5  6]\n",
            " [ 7  8  9]\n",
            " [10 11 12]]\n"
          ]
        }
      ]
    },
    {
      "cell_type": "markdown",
      "source": [
        "#2. Initial Placeholders:\n",
        "1-d array: arange(start, stop), linespace(start, stop, interval), zeros(val), ones(val), random.rand(val). <br>\n",
        "2-d array: zeros([3,4], int(float is default)), ones([4,3], int), full([2,2], 67, int), eye(val)"
      ],
      "metadata": {
        "id": "1oFg_fzaCo-g"
      }
    },
    {
      "cell_type": "code",
      "source": [
        "# create a NumPy array using numpy.arange()\n",
        "print(np.arange(1, 10))\n",
        "\n",
        "# create a NumPy array using numpy.linspace()\n",
        "print(np.linspace(1, 10, 3))\n",
        "\n",
        "# create a NumPy array using numpy.zeros()\n",
        "print(np.zeros(5, dtype=int))\n",
        "\n",
        "# create a NumPy array using numpy.ones()\n",
        "print(np.ones(5, dtype=int))\n",
        "\n",
        "# create a NumPy array using numpy.random.rand()\n",
        "print(np.random.rand(5))\n",
        "\n",
        "# create a NumPy array using numpy.random.randint()\n",
        "print(np.random.randint(5, size=10))\n",
        "# create a NumPy array using numpy.zeros()\n",
        "print(np.zeros([4, 3], dtype = np.int32))\n",
        "\n",
        "# create a NumPy array using numpy.ones()\n",
        "print(np.ones([4, 3], dtype = np.int32))\n",
        "\n",
        "# create a NumPy array using numpy.full()\n",
        "print(np.full([2, 2], 67, dtype = int))\n",
        "\n",
        "# create a NumPy array using numpy.eye()\n",
        "print(np.eye(4))"
      ],
      "metadata": {
        "colab": {
          "base_uri": "https://localhost:8080/"
        },
        "id": "rOvHU3jpCsUZ",
        "outputId": "159bdf86-0a92-4324-976d-40bccfec837f"
      },
      "execution_count": null,
      "outputs": [
        {
          "output_type": "stream",
          "name": "stdout",
          "text": [
            "[1 2 3 4 5 6 7 8 9]\n",
            "[ 1.   5.5 10. ]\n",
            "[0 0 0 0 0]\n",
            "[1 1 1 1 1]\n",
            "[0.48042523 0.52333029 0.51053248 0.01340466 0.08154599]\n",
            "[4 2 4 3 1 2 4 2 1 3]\n",
            "[[0 0 0]\n",
            " [0 0 0]\n",
            " [0 0 0]\n",
            " [0 0 0]]\n",
            "[[1 1 1]\n",
            " [1 1 1]\n",
            " [1 1 1]\n",
            " [1 1 1]]\n",
            "[[67 67]\n",
            " [67 67]]\n",
            "[[1. 0. 0. 0.]\n",
            " [0. 1. 0. 0.]\n",
            " [0. 0. 1. 0.]\n",
            " [0. 0. 0. 1.]]\n"
          ]
        }
      ]
    },
    {
      "cell_type": "markdown",
      "source": [
        "#3. Properties:\n",
        "size, len(arr), shape, dtype, tolist()(array to list).\n",
        "<br>\n",
        " (Array are homogeneous: all same type, List are heterogeneous: different types allowed)"
      ],
      "metadata": {
        "id": "aHrxx-8WED4-"
      }
    },
    {
      "cell_type": "markdown",
      "source": [
        "#4. File Loading and Saving\n",
        "Check back later\n"
      ],
      "metadata": {
        "id": "bFH0tE98dnDJ"
      }
    },
    {
      "cell_type": "markdown",
      "source": [
        "#5. Arrays\n",
        "\n",
        "* Array in numpy is called ndarray. Array are continuous unlike lists.\n",
        "\n",
        "* Sorting: <br>\n",
        "1-d: sort() <br>\n",
        "2-d: sort(arr, axis=val)\n",
        "Manipulations:\n",
        "\n",
        "*   append(val): Adds the end of the list 1d.\n",
        "*   insert(arr, value, index): Inserts value 1d.\n",
        "*   insert(arr, val, index, axis=0): Insertion 2D.\n",
        "*   delete(arr, val): Deletes an element 1d.\n",
        "*   delete(arr, val, axis=0): Deletes first row from 2d.\n",
        "*  reshape(n, m): Reshaping the 1D array to a 2D array\n",
        "*  reshape((value)): Reshaping the 2D array to a 1D array\n",
        "*  resize(n, m): Changing row and column size.\n",
        "*   sliceing: arr[start:stop:step]\n",
        "\n",
        "\n"
      ],
      "metadata": {
        "id": "W1CKT8HTeBF5"
      }
    },
    {
      "cell_type": "markdown",
      "source": [],
      "metadata": {
        "id": "yPId9qSpohsX"
      }
    },
    {
      "cell_type": "code",
      "source": [
        "\n",
        "arr = np.array([1, 2, 3, 4], dtype='f')\n",
        "\n",
        "print(arr)\n",
        "print(arr.dtype)"
      ],
      "metadata": {
        "colab": {
          "base_uri": "https://localhost:8080/"
        },
        "id": "J4rUeHDgohea",
        "outputId": "70ccbecd-124d-4c92-f2ec-40cc834882e6"
      },
      "execution_count": null,
      "outputs": [
        {
          "output_type": "stream",
          "name": "stdout",
          "text": [
            "[1. 2. 3. 4.]\n",
            "float32\n"
          ]
        }
      ]
    },
    {
      "cell_type": "markdown",
      "source": [
        "#COPY AND VIEW:\n",
        "* copy() is not affected by changes in original array.\n",
        "* view() is affected by changes in current array and vice versa.\n",
        "\n",
        "How to know?\n",
        "* Use the base attribute: x.base -> returns none if array owns the data. (copy)\n",
        "\n"
      ],
      "metadata": {
        "id": "BRD6MxDFpO1P"
      }
    },
    {
      "cell_type": "code",
      "source": [
        "\n"
      ],
      "metadata": {
        "id": "ImkgYffYeA5S"
      },
      "execution_count": null,
      "outputs": []
    }
  ]
}