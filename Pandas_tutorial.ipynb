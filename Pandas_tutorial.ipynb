{
  "nbformat": 4,
  "nbformat_minor": 0,
  "metadata": {
    "colab": {
      "provenance": []
    },
    "kernelspec": {
      "name": "python3",
      "display_name": "Python 3"
    },
    "language_info": {
      "name": "python"
    }
  },
  "cells": [
    {
      "cell_type": "markdown",
      "source": [
        "#Welcome to Pandas Tutorial\n",
        "\n",
        "Open source library that provides data structures like series and Dataframe. It is like a spreadsheet but for python so that it can easily clean, transform and analyze large datasets.\n",
        "*   Offers Data Transformation, aggregation and visualization.\n",
        "\n",
        "\n"
      ],
      "metadata": {
        "id": "3TMkhFkGiPF1"
      }
    },
    {
      "cell_type": "markdown",
      "source": [
        "#Pandas basics\n",
        "Data Structures:\n",
        "*   Series; 1-D labelled array which can hold any data type.\n",
        "*   Dataframe: 2-D data structure constructed with row and column."
      ],
      "metadata": {
        "id": "zwXB_1QTjXHD"
      }
    },
    {
      "cell_type": "markdown",
      "source": [
        "#Read and Write to Csv in Pandas\n"
      ],
      "metadata": {
        "id": "OF2fmxjDcwPR"
      }
    },
    {
      "cell_type": "code",
      "source": [
        "import pandas as pd\n",
        "\n",
        "df = pd.DataFrame({'a': [1, 2, 3], 'b': [4, 5, 6]}) #Creating a DataFrame.\n",
        "print(df)\n",
        "df.to_csv('abc.csv')\n"
      ],
      "metadata": {
        "colab": {
          "base_uri": "https://localhost:8080/"
        },
        "id": "PzbRLDmic11E",
        "outputId": "8b5d9c6b-9479-4b53-8d2a-bb2a0a181ec8"
      },
      "execution_count": null,
      "outputs": [
        {
          "output_type": "stream",
          "name": "stdout",
          "text": [
            "   a  b\n",
            "0  1  4\n",
            "1  2  5\n",
            "2  3  6\n"
          ]
        }
      ]
    },
    {
      "cell_type": "code",
      "source": [
        "newdf=pd.read_csv('abc.csv') #Reads from CSV file. There are other commands like read_json(), read_sql(), and read_html()\n",
        "print(newdf)\n",
        "anotherdf = pd.DataFrame({'a': [1, 2, 3], 'b': [4, 5, 6]}, index=['First', 'Second', 'Third'])\n",
        "print(anotherdf) #Notice that when dataframe is extracted from csv file, one extra column is added.\n",
        "\n",
        "\n",
        "series = pd.Series(data = [1, 2, 3, 4, 5], index = ['A', 'B', 'C', 'D', 'E']) #Creating a Series.\n",
        "anotherSeries = pd.Series(data = [1, 2, 3, 4, 5])\n",
        "print(anotherSeries)\n",
        "print(series)\n",
        "\n",
        "#ADDITIONAL FEATURES OF SERIES AND DATAFRAME\n",
        "series.dtypes          #Get type of data\n",
        "print(series.shape)     # Gets shape of the data.\n",
        "print(newdf.shape)\n",
        "\n",
        "newdf.info()        #information about the dataFrame/Series\n",
        "newdf.values      #returns values only in the the form of numpy array\n",
        "\n",
        "\n",
        "\n",
        "\n",
        "\n",
        "\n"
      ],
      "metadata": {
        "colab": {
          "base_uri": "https://localhost:8080/"
        },
        "id": "qJ7y3VknddC6",
        "outputId": "66fbe929-af78-47af-cfac-c0aaccef784f"
      },
      "execution_count": null,
      "outputs": [
        {
          "output_type": "stream",
          "name": "stdout",
          "text": [
            "   Unnamed: 0  a  b\n",
            "0           0  1  4\n",
            "1           1  2  5\n",
            "2           2  3  6\n",
            "        a  b\n",
            "First   1  4\n",
            "Second  2  5\n",
            "Third   3  6\n",
            "0    1\n",
            "1    2\n",
            "2    3\n",
            "3    4\n",
            "4    5\n",
            "dtype: int64\n",
            "A    1\n",
            "B    2\n",
            "C    3\n",
            "D    4\n",
            "E    5\n",
            "dtype: int64\n",
            "(5,)\n",
            "(3, 3)\n",
            "<class 'pandas.core.frame.DataFrame'>\n",
            "RangeIndex: 3 entries, 0 to 2\n",
            "Data columns (total 3 columns):\n",
            " #   Column      Non-Null Count  Dtype\n",
            "---  ------      --------------  -----\n",
            " 0   Unnamed: 0  3 non-null      int64\n",
            " 1   a           3 non-null      int64\n",
            " 2   b           3 non-null      int64\n",
            "dtypes: int64(3)\n",
            "memory usage: 204.0 bytes\n"
          ]
        },
        {
          "output_type": "execute_result",
          "data": {
            "text/plain": [
              "array([[0, 1, 4],\n",
              "       [1, 2, 5],\n",
              "       [2, 3, 6]])"
            ]
          },
          "metadata": {},
          "execution_count": 3
        }
      ]
    },
    {
      "cell_type": "markdown",
      "source": [
        "#Sorting, ReIndexing, Renaming, Reshaping, Dropping:\n"
      ],
      "metadata": {
        "id": "TjAOpGGUh9WW"
      }
    },
    {
      "cell_type": "code",
      "source": [
        "data = {'Fruits': ['Mango', 'Apple', 'Banana', 'Orange'],\n",
        "        'Quantity': [40, 20, 25, 10],\n",
        "        'Price': [80, 100, 50, 70]\n",
        "        }\n",
        "df = pd.DataFrame(data) # New dataFrame\n",
        "print(df)\n",
        "\n",
        "\n",
        "print(df.sort_values('Price', ascending=True)) #True for ascending, False for descennding\n",
        "\n",
        "print(df.sort_index(ascending=False))\n",
        "\n",
        "df.rename(columns={\n",
        "    'Fruits': 'FRUIT',\n",
        "    'Quantity': 'QUANTITY',\n",
        "    'Price': 'PRICE'\n",
        "}, inplace=True)          ## Inplace makes changes to original data frame.\n",
        "\n",
        "print(df)\n",
        "\n",
        "print(df.rename(index={\n",
        "    0: 'First',\n",
        "    1: 'Second',\n",
        "    2: 'Third',\n",
        "    3: 'Fourth'\n",
        "}))\n",
        "pd.melt(df)           # Gathers columns into rows.\n",
        "\n",
        "pivot = df.pivot(columns='FRUIT', values=['QUANTITY', 'PRICE'])\n",
        "print(pivot)        #Creates a pivot table.\n",
        "\n",
        "df1 = df.drop(columns=['FRUIT'], axis=1)\n",
        "print(df1)\n",
        "\n",
        "\n",
        "\n"
      ],
      "metadata": {
        "colab": {
          "base_uri": "https://localhost:8080/"
        },
        "id": "Df7twa5Cj53P",
        "outputId": "42fc54eb-aae5-4e12-88ff-2f9c97a4b31d"
      },
      "execution_count": null,
      "outputs": [
        {
          "output_type": "stream",
          "name": "stdout",
          "text": [
            "   Fruits  Quantity  Price\n",
            "0   Mango        40     80\n",
            "1   Apple        20    100\n",
            "2  Banana        25     50\n",
            "3  Orange        10     70\n",
            "   Fruits  Quantity  Price\n",
            "2  Banana        25     50\n",
            "3  Orange        10     70\n",
            "0   Mango        40     80\n",
            "1   Apple        20    100\n",
            "   Fruits  Quantity  Price\n",
            "3  Orange        10     70\n",
            "2  Banana        25     50\n",
            "1   Apple        20    100\n",
            "0   Mango        40     80\n",
            "    FRUIT  QUANTITY  PRICE\n",
            "0   Mango        40     80\n",
            "1   Apple        20    100\n",
            "2  Banana        25     50\n",
            "3  Orange        10     70\n",
            "         FRUIT  QUANTITY  PRICE\n",
            "First    Mango        40     80\n",
            "Second   Apple        20    100\n",
            "Third   Banana        25     50\n",
            "Fourth  Orange        10     70\n",
            "      QUANTITY                      PRICE                    \n",
            "FRUIT    Apple Banana Mango Orange  Apple Banana Mango Orange\n",
            "0          NaN    NaN  40.0    NaN    NaN    NaN  80.0    NaN\n",
            "1         20.0    NaN   NaN    NaN  100.0    NaN   NaN    NaN\n",
            "2          NaN   25.0   NaN    NaN    NaN   50.0   NaN    NaN\n",
            "3          NaN    NaN   NaN   10.0    NaN    NaN   NaN   70.0\n",
            "   QUANTITY  PRICE\n",
            "0        40     80\n",
            "1        20    100\n",
            "2        25     50\n",
            "3        10     70\n"
          ]
        }
      ]
    },
    {
      "cell_type": "markdown",
      "source": [
        "#Data observations:"
      ],
      "metadata": {
        "id": "WPEIVy5gnd6E"
      }
    },
    {
      "cell_type": "code",
      "source": [
        "print(df.head())             #First 5\n",
        "print(df.tail())            #Last 5\n",
        "print(df.sample(2))          #Randomly selects n rows from the dataFrame\n",
        "print(df[df.PRICE > 50])\n",
        "print(df['FRUIT'])\n"
      ],
      "metadata": {
        "colab": {
          "base_uri": "https://localhost:8080/"
        },
        "id": "DS8chljfnhaR",
        "outputId": "421876dd-aa7e-4f90-9a2e-430d2189b34d"
      },
      "execution_count": null,
      "outputs": [
        {
          "output_type": "stream",
          "name": "stdout",
          "text": [
            "    FRUIT  QUANTITY  PRICE\n",
            "0   Mango        40     80\n",
            "1   Apple        20    100\n",
            "2  Banana        25     50\n",
            "3  Orange        10     70\n",
            "    FRUIT  QUANTITY  PRICE\n",
            "0   Mango        40     80\n",
            "1   Apple        20    100\n",
            "2  Banana        25     50\n",
            "3  Orange        10     70\n",
            "    FRUIT  QUANTITY  PRICE\n",
            "2  Banana        25     50\n",
            "3  Orange        10     70\n",
            "    FRUIT  QUANTITY  PRICE\n",
            "0   Mango        40     80\n",
            "1   Apple        20    100\n",
            "3  Orange        10     70\n",
            "0     Mango\n",
            "1     Apple\n",
            "2    Banana\n",
            "3    Orange\n",
            "Name: FRUIT, dtype: object\n"
          ]
        }
      ]
    },
    {
      "cell_type": "markdown",
      "source": [
        "# DATA Correlation\n",
        "\n",
        "* corr() method: Calculates correlation between each column in data set.\n",
        "\n",
        "* Can only be used when out df has numerical values. It results in a floating value between -1 to 1.\n",
        "\n",
        "* 1 means that there is a 1 to 1 relationship (a perfect correlation), and for this data set, each time a value went up in the first column, the other one went up as well.\n",
        "\n",
        "* -0.9 would be just as good relationship as 0.9, but if you increase one value, the other will probably go down.\n",
        "\n",
        "* 0 means no correlation.\n",
        "\n"
      ],
      "metadata": {
        "id": "cCXIq9sNrQmI"
      }
    },
    {
      "cell_type": "code",
      "source": [
        "df[[\"QUANTITY\", \"PRICE\"]].corr()\n"
      ],
      "metadata": {
        "colab": {
          "base_uri": "https://localhost:8080/",
          "height": 112
        },
        "id": "Apx3L2FnrrgQ",
        "outputId": "3a6a0b7f-c205-4ddf-dee1-c44cefbacbcf"
      },
      "execution_count": null,
      "outputs": [
        {
          "output_type": "execute_result",
          "data": {
            "text/plain": [
              "          QUANTITY     PRICE\n",
              "QUANTITY  1.000000  0.032026\n",
              "PRICE     0.032026  1.000000"
            ],
            "text/html": [
              "\n",
              "  <div id=\"df-d5d5ead0-5659-48b9-aefa-9d68ab8e074b\" class=\"colab-df-container\">\n",
              "    <div>\n",
              "<style scoped>\n",
              "    .dataframe tbody tr th:only-of-type {\n",
              "        vertical-align: middle;\n",
              "    }\n",
              "\n",
              "    .dataframe tbody tr th {\n",
              "        vertical-align: top;\n",
              "    }\n",
              "\n",
              "    .dataframe thead th {\n",
              "        text-align: right;\n",
              "    }\n",
              "</style>\n",
              "<table border=\"1\" class=\"dataframe\">\n",
              "  <thead>\n",
              "    <tr style=\"text-align: right;\">\n",
              "      <th></th>\n",
              "      <th>QUANTITY</th>\n",
              "      <th>PRICE</th>\n",
              "    </tr>\n",
              "  </thead>\n",
              "  <tbody>\n",
              "    <tr>\n",
              "      <th>QUANTITY</th>\n",
              "      <td>1.000000</td>\n",
              "      <td>0.032026</td>\n",
              "    </tr>\n",
              "    <tr>\n",
              "      <th>PRICE</th>\n",
              "      <td>0.032026</td>\n",
              "      <td>1.000000</td>\n",
              "    </tr>\n",
              "  </tbody>\n",
              "</table>\n",
              "</div>\n",
              "    <div class=\"colab-df-buttons\">\n",
              "\n",
              "  <div class=\"colab-df-container\">\n",
              "    <button class=\"colab-df-convert\" onclick=\"convertToInteractive('df-d5d5ead0-5659-48b9-aefa-9d68ab8e074b')\"\n",
              "            title=\"Convert this dataframe to an interactive table.\"\n",
              "            style=\"display:none;\">\n",
              "\n",
              "  <svg xmlns=\"http://www.w3.org/2000/svg\" height=\"24px\" viewBox=\"0 -960 960 960\">\n",
              "    <path d=\"M120-120v-720h720v720H120Zm60-500h600v-160H180v160Zm220 220h160v-160H400v160Zm0 220h160v-160H400v160ZM180-400h160v-160H180v160Zm440 0h160v-160H620v160ZM180-180h160v-160H180v160Zm440 0h160v-160H620v160Z\"/>\n",
              "  </svg>\n",
              "    </button>\n",
              "\n",
              "  <style>\n",
              "    .colab-df-container {\n",
              "      display:flex;\n",
              "      gap: 12px;\n",
              "    }\n",
              "\n",
              "    .colab-df-convert {\n",
              "      background-color: #E8F0FE;\n",
              "      border: none;\n",
              "      border-radius: 50%;\n",
              "      cursor: pointer;\n",
              "      display: none;\n",
              "      fill: #1967D2;\n",
              "      height: 32px;\n",
              "      padding: 0 0 0 0;\n",
              "      width: 32px;\n",
              "    }\n",
              "\n",
              "    .colab-df-convert:hover {\n",
              "      background-color: #E2EBFA;\n",
              "      box-shadow: 0px 1px 2px rgba(60, 64, 67, 0.3), 0px 1px 3px 1px rgba(60, 64, 67, 0.15);\n",
              "      fill: #174EA6;\n",
              "    }\n",
              "\n",
              "    .colab-df-buttons div {\n",
              "      margin-bottom: 4px;\n",
              "    }\n",
              "\n",
              "    [theme=dark] .colab-df-convert {\n",
              "      background-color: #3B4455;\n",
              "      fill: #D2E3FC;\n",
              "    }\n",
              "\n",
              "    [theme=dark] .colab-df-convert:hover {\n",
              "      background-color: #434B5C;\n",
              "      box-shadow: 0px 1px 3px 1px rgba(0, 0, 0, 0.15);\n",
              "      filter: drop-shadow(0px 1px 2px rgba(0, 0, 0, 0.3));\n",
              "      fill: #FFFFFF;\n",
              "    }\n",
              "  </style>\n",
              "\n",
              "    <script>\n",
              "      const buttonEl =\n",
              "        document.querySelector('#df-d5d5ead0-5659-48b9-aefa-9d68ab8e074b button.colab-df-convert');\n",
              "      buttonEl.style.display =\n",
              "        google.colab.kernel.accessAllowed ? 'block' : 'none';\n",
              "\n",
              "      async function convertToInteractive(key) {\n",
              "        const element = document.querySelector('#df-d5d5ead0-5659-48b9-aefa-9d68ab8e074b');\n",
              "        const dataTable =\n",
              "          await google.colab.kernel.invokeFunction('convertToInteractive',\n",
              "                                                    [key], {});\n",
              "        if (!dataTable) return;\n",
              "\n",
              "        const docLinkHtml = 'Like what you see? Visit the ' +\n",
              "          '<a target=\"_blank\" href=https://colab.research.google.com/notebooks/data_table.ipynb>data table notebook</a>'\n",
              "          + ' to learn more about interactive tables.';\n",
              "        element.innerHTML = '';\n",
              "        dataTable['output_type'] = 'display_data';\n",
              "        await google.colab.output.renderOutput(dataTable, element);\n",
              "        const docLink = document.createElement('div');\n",
              "        docLink.innerHTML = docLinkHtml;\n",
              "        element.appendChild(docLink);\n",
              "      }\n",
              "    </script>\n",
              "  </div>\n",
              "\n",
              "\n",
              "    <div id=\"df-919c6acb-f930-4070-8e93-2d0d9ea86ab8\">\n",
              "      <button class=\"colab-df-quickchart\" onclick=\"quickchart('df-919c6acb-f930-4070-8e93-2d0d9ea86ab8')\"\n",
              "                title=\"Suggest charts\"\n",
              "                style=\"display:none;\">\n",
              "\n",
              "<svg xmlns=\"http://www.w3.org/2000/svg\" height=\"24px\"viewBox=\"0 0 24 24\"\n",
              "     width=\"24px\">\n",
              "    <g>\n",
              "        <path d=\"M19 3H5c-1.1 0-2 .9-2 2v14c0 1.1.9 2 2 2h14c1.1 0 2-.9 2-2V5c0-1.1-.9-2-2-2zM9 17H7v-7h2v7zm4 0h-2V7h2v10zm4 0h-2v-4h2v4z\"/>\n",
              "    </g>\n",
              "</svg>\n",
              "      </button>\n",
              "\n",
              "<style>\n",
              "  .colab-df-quickchart {\n",
              "      --bg-color: #E8F0FE;\n",
              "      --fill-color: #1967D2;\n",
              "      --hover-bg-color: #E2EBFA;\n",
              "      --hover-fill-color: #174EA6;\n",
              "      --disabled-fill-color: #AAA;\n",
              "      --disabled-bg-color: #DDD;\n",
              "  }\n",
              "\n",
              "  [theme=dark] .colab-df-quickchart {\n",
              "      --bg-color: #3B4455;\n",
              "      --fill-color: #D2E3FC;\n",
              "      --hover-bg-color: #434B5C;\n",
              "      --hover-fill-color: #FFFFFF;\n",
              "      --disabled-bg-color: #3B4455;\n",
              "      --disabled-fill-color: #666;\n",
              "  }\n",
              "\n",
              "  .colab-df-quickchart {\n",
              "    background-color: var(--bg-color);\n",
              "    border: none;\n",
              "    border-radius: 50%;\n",
              "    cursor: pointer;\n",
              "    display: none;\n",
              "    fill: var(--fill-color);\n",
              "    height: 32px;\n",
              "    padding: 0;\n",
              "    width: 32px;\n",
              "  }\n",
              "\n",
              "  .colab-df-quickchart:hover {\n",
              "    background-color: var(--hover-bg-color);\n",
              "    box-shadow: 0 1px 2px rgba(60, 64, 67, 0.3), 0 1px 3px 1px rgba(60, 64, 67, 0.15);\n",
              "    fill: var(--button-hover-fill-color);\n",
              "  }\n",
              "\n",
              "  .colab-df-quickchart-complete:disabled,\n",
              "  .colab-df-quickchart-complete:disabled:hover {\n",
              "    background-color: var(--disabled-bg-color);\n",
              "    fill: var(--disabled-fill-color);\n",
              "    box-shadow: none;\n",
              "  }\n",
              "\n",
              "  .colab-df-spinner {\n",
              "    border: 2px solid var(--fill-color);\n",
              "    border-color: transparent;\n",
              "    border-bottom-color: var(--fill-color);\n",
              "    animation:\n",
              "      spin 1s steps(1) infinite;\n",
              "  }\n",
              "\n",
              "  @keyframes spin {\n",
              "    0% {\n",
              "      border-color: transparent;\n",
              "      border-bottom-color: var(--fill-color);\n",
              "      border-left-color: var(--fill-color);\n",
              "    }\n",
              "    20% {\n",
              "      border-color: transparent;\n",
              "      border-left-color: var(--fill-color);\n",
              "      border-top-color: var(--fill-color);\n",
              "    }\n",
              "    30% {\n",
              "      border-color: transparent;\n",
              "      border-left-color: var(--fill-color);\n",
              "      border-top-color: var(--fill-color);\n",
              "      border-right-color: var(--fill-color);\n",
              "    }\n",
              "    40% {\n",
              "      border-color: transparent;\n",
              "      border-right-color: var(--fill-color);\n",
              "      border-top-color: var(--fill-color);\n",
              "    }\n",
              "    60% {\n",
              "      border-color: transparent;\n",
              "      border-right-color: var(--fill-color);\n",
              "    }\n",
              "    80% {\n",
              "      border-color: transparent;\n",
              "      border-right-color: var(--fill-color);\n",
              "      border-bottom-color: var(--fill-color);\n",
              "    }\n",
              "    90% {\n",
              "      border-color: transparent;\n",
              "      border-bottom-color: var(--fill-color);\n",
              "    }\n",
              "  }\n",
              "</style>\n",
              "\n",
              "      <script>\n",
              "        async function quickchart(key) {\n",
              "          const quickchartButtonEl =\n",
              "            document.querySelector('#' + key + ' button');\n",
              "          quickchartButtonEl.disabled = true;  // To prevent multiple clicks.\n",
              "          quickchartButtonEl.classList.add('colab-df-spinner');\n",
              "          try {\n",
              "            const charts = await google.colab.kernel.invokeFunction(\n",
              "                'suggestCharts', [key], {});\n",
              "          } catch (error) {\n",
              "            console.error('Error during call to suggestCharts:', error);\n",
              "          }\n",
              "          quickchartButtonEl.classList.remove('colab-df-spinner');\n",
              "          quickchartButtonEl.classList.add('colab-df-quickchart-complete');\n",
              "        }\n",
              "        (() => {\n",
              "          let quickchartButtonEl =\n",
              "            document.querySelector('#df-919c6acb-f930-4070-8e93-2d0d9ea86ab8 button');\n",
              "          quickchartButtonEl.style.display =\n",
              "            google.colab.kernel.accessAllowed ? 'block' : 'none';\n",
              "        })();\n",
              "      </script>\n",
              "    </div>\n",
              "\n",
              "    </div>\n",
              "  </div>\n"
            ],
            "application/vnd.google.colaboratory.intrinsic+json": {
              "type": "dataframe",
              "summary": "{\n  \"name\": \"df[[\\\"QUANTITY\\\", \\\"PRICE\\\"]]\",\n  \"rows\": 2,\n  \"fields\": [\n    {\n      \"column\": \"QUANTITY\",\n      \"properties\": {\n        \"dtype\": \"number\",\n        \"std\": 0.6844612405036556,\n        \"min\": 0.032025630761017464,\n        \"max\": 1.0,\n        \"num_unique_values\": 2,\n        \"samples\": [\n          0.032025630761017464,\n          1.0\n        ],\n        \"semantic_type\": \"\",\n        \"description\": \"\"\n      }\n    },\n    {\n      \"column\": \"PRICE\",\n      \"properties\": {\n        \"dtype\": \"number\",\n        \"std\": 0.6844612405036556,\n        \"min\": 0.032025630761017464,\n        \"max\": 1.0,\n        \"num_unique_values\": 2,\n        \"samples\": [\n          1.0,\n          0.032025630761017464\n        ],\n        \"semantic_type\": \"\",\n        \"description\": \"\"\n      }\n    }\n  ]\n}"
            }
          },
          "metadata": {},
          "execution_count": 10
        }
      ]
    },
    {
      "cell_type": "markdown",
      "source": [
        "#PLOT\n",
        "plot is pandas attribute to create diagrams. Matplotlib has pyplot which is used to visualize the diagrams. pyplot also has plot attribute.\n",
        "\n"
      ],
      "metadata": {
        "id": "aWDJVvJUtCki"
      }
    },
    {
      "cell_type": "code",
      "source": [],
      "metadata": {
        "id": "eh0Bz7hytBaO"
      },
      "execution_count": null,
      "outputs": []
    }
  ]
}