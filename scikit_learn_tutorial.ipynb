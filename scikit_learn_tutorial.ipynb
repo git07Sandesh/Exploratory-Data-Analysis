{
  "nbformat": 4,
  "nbformat_minor": 0,
  "metadata": {
    "colab": {
      "provenance": []
    },
    "kernelspec": {
      "name": "python3",
      "display_name": "Python 3"
    },
    "language_info": {
      "name": "python"
    }
  },
  "cells": [
    {
      "cell_type": "code",
      "execution_count": null,
      "metadata": {
        "id": "MrL1yTcJYOJg"
      },
      "outputs": [],
      "source": []
    },
    {
      "cell_type": "markdown",
      "source": [
        "#Scikit_learn\n",
        "\n",
        "THis is a tutorial of Scikit-learn. This aims to be a beginner friendly guide and aims to get started with the basics.\n",
        "\n",
        "Scikit learn is a Python library that facilitates data preprocessing and model training.\n"
      ],
      "metadata": {
        "id": "tVVOu5prYSQp"
      }
    },
    {
      "cell_type": "markdown",
      "source": [
        "#Data Preprocessing library:\n",
        "\n",
        "sklearn.preprocessing\n",
        "\n",
        "* StandardScaler: standardize feature by removing mean and scaling to unit variance. Later on perform fit() and transform() for completion.\n",
        "* MinMaxScaler: Scale features to a specific range (e.g., 0 to 1).\n",
        "* Binarizer: Transform to binary values.\n",
        "* SimpleImputer: Impute missing values using a strategy(mean, median, mode).\n",
        " and many more. Simple idea here is it is combination of various functions that help in data preprocessing.\n"
      ],
      "metadata": {
        "id": "Wl_ycSoWZqVR"
      }
    },
    {
      "cell_type": "markdown",
      "source": [
        "#Model Selection and Evaluation:\n",
        "\n",
        "* train_test_split(arrays, test_size/train_size, random_state, shuffle): Split data into training and testing sets.\n",
        "    * Returns list containing train-test split of input.\n",
        "    * The number lists are 2*len(arrays). So if 1 array was passed, we get 2 lists (train and test). The value are mapped on how you passed the array. The first pair (train-test) are for first array and so on.\n",
        "* cross_val_score: Perform cross-validation on the model.\n",
        "* cross_val_predict: Cross-validation generator for predictions.\n",
        "* accuracy_score: Evaluate classification accuracy.\n",
        "* confusion_matrix: Generate confusion matrix for classification.\n",
        "* classification_report: Detailed classification report (precision, recall, F1-score).\n",
        "* mean_squared_error: Evaluate regression performance with mean squared error.\n",
        "* r2_score: Evaluate regression performance with R² score.\n",
        "* roc_auc_score: Compute area under the ROC curve for binary classification.\n",
        "* f1_score: Compute the F1 score for classification models.\n",
        "* precision_score: Compute precision score for classification models.\n",
        "* recall_score: Compute recall score for classification models."
      ],
      "metadata": {
        "id": "9sSwaas0dZx9"
      }
    },
    {
      "cell_type": "markdown",
      "source": [
        "#Model Training and Prediction:\n",
        "\n",
        "* fit(): Trains the model using the provided data (X_train, y_train)\n",
        "* predict(): Makes predicttion based on the trained model.\n",
        "* fit_predict(): Combines both.\n",
        "* score(): Models's performance.\n",
        "* transform(): For completing data transformations."
      ],
      "metadata": {
        "id": "8n2qMjRLeG74"
      }
    },
    {
      "cell_type": "code",
      "source": [],
      "metadata": {
        "id": "SVSWfd9xaOhA"
      },
      "execution_count": null,
      "outputs": []
    }
  ]
}