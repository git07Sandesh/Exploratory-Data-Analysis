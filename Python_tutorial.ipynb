{
  "nbformat": 4,
  "nbformat_minor": 0,
  "metadata": {
    "colab": {
      "provenance": [],
      "authorship_tag": "ABX9TyO0aBYT6C/HsDsKbsMrew/7",
      "include_colab_link": true
    },
    "kernelspec": {
      "name": "python3",
      "display_name": "Python 3"
    },
    "language_info": {
      "name": "python"
    }
  },
  "cells": [
    {
      "cell_type": "markdown",
      "metadata": {
        "id": "view-in-github",
        "colab_type": "text"
      },
      "source": [
        "<a href=\"https://colab.research.google.com/github/git07Sandesh/Exploratory-Data-Analysis/blob/main/Python_tutorials.ipynb\" target=\"_parent\"><img src=\"https://colab.research.google.com/assets/colab-badge.svg\" alt=\"Open In Colab\"/></a>"
      ]
    },
    {
      "cell_type": "markdown",
      "source": [
        "#Python Tutorial\n",
        "This is a simple python tutorial that I will be exploring to get me started with machine learning and other python libraries.\n",
        "As I already have foundational knowledge of C/C++, I will be only highlighting significatly different logics and techniques in python and try to keep this tutorial short.\n",
        "\n",
        "This will also help me get better with google colab.\n",
        "\n"
      ],
      "metadata": {
        "id": "BckmtJRY3kvH"
      }
    },
    {
      "cell_type": "code",
      "source": [
        "print(\"Hey this is how we print in python\")"
      ],
      "metadata": {
        "colab": {
          "base_uri": "https://localhost:8080/"
        },
        "id": "9_wlubPt4JNU",
        "outputId": "e48f99d2-f3fb-45e0-cec3-8eec5533bd3e"
      },
      "execution_count": null,
      "outputs": [
        {
          "output_type": "stream",
          "name": "stdout",
          "text": [
            "Hey this is how we print in python\n"
          ]
        }
      ]
    },
    {
      "cell_type": "code",
      "source": [
        "print()"
      ],
      "metadata": {
        "id": "bVmqbSvO4bOh"
      },
      "execution_count": null,
      "outputs": []
    },
    {
      "cell_type": "markdown",
      "source": [
        "Intendation plays a great role in python. It indicates a block of code. The number of spaces is up to you but should be minimum 1.\n"
      ],
      "metadata": {
        "id": "E7RPHQ0S4m0K"
      }
    },
    {
      "cell_type": "code",
      "source": [
        "if 3 > 2:\n",
        "  print(\"Three is greater than two!\")"
      ],
      "metadata": {
        "colab": {
          "base_uri": "https://localhost:8080/"
        },
        "id": "Fdcf6bMf4wuF",
        "outputId": "0a112e2b-0c3c-4f60-c585-178892f3d0fe"
      },
      "execution_count": null,
      "outputs": [
        {
          "output_type": "stream",
          "name": "stdout",
          "text": [
            "Three is greater than two!\n"
          ]
        }
      ]
    },
    {
      "cell_type": "markdown",
      "source": [
        "hash(#) is used to denote comments.\n",
        "To assign multi-line comments, you can use \"\"\"multiple lines\"\"\" as python ignores strings that are not assigned to a variable.\n",
        "\n"
      ],
      "metadata": {
        "id": "ycbgYH2k5A35"
      }
    },
    {
      "cell_type": "markdown",
      "source": [
        "Multiple variables can be assigned values in one line.\n",
        "Same value can also be added to multiple variables.\n"
      ],
      "metadata": {
        "id": "Xbf1PSij5o1J"
      }
    },
    {
      "cell_type": "markdown",
      "source": [],
      "metadata": {
        "id": "q8BB0QN06BMU"
      }
    },
    {
      "cell_type": "code",
      "source": [
        "x, y, z = \"This\", \"is\", \"Fun\"\n",
        "print(x)\n",
        "print(y)\n",
        "print(z)\n",
        "\n",
        "a=b=c=\"This is fun\"\n",
        "print(a)\n",
        "print(b)\n",
        "print(c)"
      ],
      "metadata": {
        "colab": {
          "base_uri": "https://localhost:8080/"
        },
        "id": "qKljC6TX53Gm",
        "outputId": "90323dea-b089-431f-9730-aa7b83ac11ed"
      },
      "execution_count": null,
      "outputs": [
        {
          "output_type": "stream",
          "name": "stdout",
          "text": [
            "This\n",
            "is\n",
            "Fun\n",
            "This is fun\n",
            "This is fun\n",
            "This is fun\n"
          ]
        }
      ]
    },
    {
      "cell_type": "markdown",
      "source": [
        "#DATA TYPES\n",
        "Text Type:\tstr <br>\n",
        "Numeric Types:\tint, float, complex (j is the imaginary part, x = 3 + 5j) <br>\n",
        "Sequence Types:\tlist, tuple, range <br>\n",
        "Mapping Type:\tdict <br>\n",
        "Set Types:\tset, frozenset <br>\n",
        "Boolean Type:\tbool <br>\n",
        "Binary Types:\tbytes, bytearray, memoryview <br>\n",
        "None Type:\tNoneType <br>\n",
        "\n",
        "find the type using type(val)"
      ],
      "metadata": {
        "id": "k31VIq146SAF"
      }
    },
    {
      "cell_type": "code",
      "source": [
        "x = [1,2,3,4]\n",
        "y = (1,2,3,4)\n",
        "z = {1,2,3,4}\n",
        "a = {1:\"one\", 2:\"two\", 3:\"three\"}\n",
        "b = range(10)\n",
        "print(type(x))\n",
        "print(type(y))\n",
        "print(type(z))\n",
        "print(type(a))\n",
        "print(type(b))"
      ],
      "metadata": {
        "colab": {
          "base_uri": "https://localhost:8080/"
        },
        "id": "Ye4rt06n6Ria",
        "outputId": "eb393e5e-11d7-4700-e990-6b25b6d79088"
      },
      "execution_count": null,
      "outputs": [
        {
          "output_type": "stream",
          "name": "stdout",
          "text": [
            "<class 'list'>\n",
            "<class 'tuple'>\n",
            "<class 'set'>\n",
            "<class 'dict'>\n",
            "<class 'range'>\n"
          ]
        }
      ]
    },
    {
      "cell_type": "markdown",
      "source": [
        "#Quotes Inside Quotes\n",
        "You can use quotes inside a string, as long as they don't match the quotes surrounding the string. <br>\n",
        "\n",
        "Multiline strings: Use either three double quotes or three single quotes\n",
        "\n",
        "\n"
      ],
      "metadata": {
        "id": "hNxnWhNm737M"
      }
    },
    {
      "cell_type": "markdown",
      "source": [
        "#Strings\n",
        "\n",
        "Works like array. <br>\n",
        "You can check if certain phrase is present in string or not.\n",
        "<br>\n",
        "if(\"text\" in txt) <br>\n",
        "if(\"text\" not in txt)\n",
        "#Slicing of strings\n",
        "We can return certain portion of strings by using slice syntax. <br>\n",
        "str[start:end(not included)] <br>\n",
        "We can also use negative indexing. -1 reprents last, -2 second last and so on.\n",
        "#Replace String.\n",
        "replace() -> print(a.replace(\"H\", \"J\"))\n",
        "#F-strings\n",
        "We can pass values to a string by using f in front of string literal and {} as placeholder. Placeholder can include modifiers by using : <br>\n",
        "Also checkout multiple string methods over here:\n",
        "https://www.w3schools.com/python/python_strings_methods.asp\n",
        "\n",
        "\n"
      ],
      "metadata": {
        "id": "fHuk2xbj8QUX"
      }
    },
    {
      "cell_type": "code",
      "source": [
        "txt = \"The best things in life are free!\"\n",
        "print(\"free\" in txt)\n",
        "\n",
        "b = \"Helllooo\"\n",
        "print(b[3:6])\n",
        "\n",
        "age = 36\n",
        "print(f\"My age is not {age:.2f}\")\n"
      ],
      "metadata": {
        "colab": {
          "base_uri": "https://localhost:8080/"
        },
        "id": "KHSGIKFH8J4B",
        "outputId": "3b4a7d0a-dc64-4a2a-e6b7-006b7c3e8863"
      },
      "execution_count": null,
      "outputs": [
        {
          "output_type": "stream",
          "name": "stdout",
          "text": [
            "True\n",
            "llo\n",
            "My age is not 36.00\n"
          ]
        }
      ]
    },
    {
      "cell_type": "markdown",
      "source": [
        "#Control Flow\n",
        "\n",
        "Conditional Statements: Basic if -elif-else statement\n"
      ],
      "metadata": {
        "id": "y69lEbtDMMRT"
      }
    },
    {
      "cell_type": "code",
      "source": [
        "x = 10\n",
        "if x > 5:\n",
        "    print(\"x is greater than 5\")\n",
        "elif x == 5:\n",
        "    print(\"x is 5\")\n",
        "else:\n",
        "    print(\"x is less than 5\")"
      ],
      "metadata": {
        "colab": {
          "base_uri": "https://localhost:8080/"
        },
        "id": "-sOFH63KMLyE",
        "outputId": "d26fe83a-5e1c-45ae-9afc-229bf9018483"
      },
      "execution_count": null,
      "outputs": [
        {
          "output_type": "stream",
          "name": "stdout",
          "text": [
            "x is greater than 5\n"
          ]
        }
      ]
    },
    {
      "cell_type": "markdown",
      "source": [
        "#Loops\n",
        "1. For Loop\n",
        "2. While Loop"
      ],
      "metadata": {
        "id": "zm-k1llIMrr0"
      }
    },
    {
      "cell_type": "code",
      "source": [
        "for i in range(5):\n",
        "  print(i)\n",
        "i = 0\n",
        "while i < 5:\n",
        "  print(i)\n",
        "  i=i+1"
      ],
      "metadata": {
        "colab": {
          "base_uri": "https://localhost:8080/"
        },
        "id": "oodyNXwgMLsV",
        "outputId": "3615a295-75bb-4def-c2c2-7428848a9275"
      },
      "execution_count": null,
      "outputs": [
        {
          "output_type": "stream",
          "name": "stdout",
          "text": [
            "0\n",
            "1\n",
            "2\n",
            "3\n",
            "4\n",
            "0\n",
            "1\n",
            "2\n",
            "3\n",
            "4\n"
          ]
        }
      ]
    },
    {
      "cell_type": "markdown",
      "source": [
        "#Interesting Facts about loops\n",
        "1. Using enumerate to get index and value: Helps to get both the index and value. {The first one is index and the later one being a value}"
      ],
      "metadata": {
        "id": "s3VzlDg1NFqm"
      }
    },
    {
      "cell_type": "code",
      "source": [
        "vowels=['a','e','i','o','u']\n",
        "for i, letter in enumerate(vowels):\n",
        "\tprint (i, letter)"
      ],
      "metadata": {
        "colab": {
          "base_uri": "https://localhost:8080/"
        },
        "id": "Fxka5BseNVou",
        "outputId": "7967eb66-89f1-49ec-a023-5ba522803c7c"
      },
      "execution_count": null,
      "outputs": [
        {
          "output_type": "stream",
          "name": "stdout",
          "text": [
            "0 a\n",
            "1 e\n",
            "2 i\n",
            "3 o\n",
            "4 u\n"
          ]
        }
      ]
    },
    {
      "cell_type": "markdown",
      "source": [
        "#Functions\n",
        "You can use \"return val\" to return a value, and you can return multiple values at a time.\n"
      ],
      "metadata": {
        "id": "cQ76tlg2OOpn"
      }
    },
    {
      "cell_type": "code",
      "source": [
        "def fun():\n",
        "  print(\"This is most easy way to define a funtion\")\n",
        "\n",
        "fun()\n",
        "\n",
        "def func():\n",
        "    return 1, 2, 3, 4, 5\n",
        "\n",
        "one, two, three, four, five = func()\n",
        "print(one, two, three, four, five)"
      ],
      "metadata": {
        "colab": {
          "base_uri": "https://localhost:8080/"
        },
        "id": "n0Dt8St8OOeH",
        "outputId": "4f3d7f18-0d51-4303-bfba-473dbedfeb82"
      },
      "execution_count": null,
      "outputs": [
        {
          "output_type": "stream",
          "name": "stdout",
          "text": [
            "This is most easy way to define a funtion\n",
            "1 2 3 4 5\n"
          ]
        }
      ]
    },
    {
      "cell_type": "markdown",
      "source": [
        "#List\n",
        "1. Accessing: Use index as arrays (including negative for reverse)\n",
        "2. Modifying: Index it, assign new value.\n",
        "3. Inserting items: insert(index, value), use append(value) to add at end\n",
        "4. Delete items: remove(value) or pop(index) or del arr[0]. clear() clears the entire list."
      ],
      "metadata": {
        "id": "vWFD4RSSP1R6"
      }
    },
    {
      "cell_type": "markdown",
      "source": [
        "#Tuple:\n",
        "=> Ordered, Unchangable and allows duplicate <br>\n",
        "Always use comma!! EVen if single element <br>\n",
        "Can contain different data types.\n"
      ],
      "metadata": {
        "id": "UdPtjG7RRUsA"
      }
    },
    {
      "cell_type": "code",
      "source": [
        "thistuple = (\"apple\",)\n",
        "print(type(thistuple))"
      ],
      "metadata": {
        "colab": {
          "base_uri": "https://localhost:8080/"
        },
        "id": "RWtm-AKBP0-q",
        "outputId": "d3b10dc4-8925-454a-befc-745b3444a2e7"
      },
      "execution_count": null,
      "outputs": [
        {
          "output_type": "stream",
          "name": "stdout",
          "text": [
            "<class 'tuple'>\n"
          ]
        }
      ]
    },
    {
      "cell_type": "markdown",
      "source": [
        "#Set\n",
        "Unordered (can appears in different order), unchangeable (allows addition-add(val) and removal- remove(val), discard(val), pop()), unindexed and doesn't allow duplicates\n",
        "\n",
        "Single element can not be accessed directly (Must use for loop)"
      ],
      "metadata": {
        "id": "FCkRrdauSJmF"
      }
    },
    {
      "cell_type": "markdown",
      "source": [
        "#Dictionary\n",
        " store data values in key:value pairs\n",
        " ordered*, changeable and do not allow duplicates.\n",
        "\n",
        " keys() and values() gives the keys and values.\n",
        "\n"
      ],
      "metadata": {
        "id": "j3QWp90xTTW2"
      }
    },
    {
      "cell_type": "code",
      "source": [
        "thisdict = {\n",
        "  \"brand\": \"Ford\",\n",
        "  \"model\": \"Mustang\",\n",
        "  \"year\": 1964\n",
        "}\n",
        "x = thisdict[\"model\"]\n",
        "thisdict.update({\"year\": 2020})\n",
        "thisdict.update({\"color\": \"blue\"})\n",
        "print(x)\n",
        "print(thisdict)\n",
        "thisdict.pop(\"model\")"
      ],
      "metadata": {
        "colab": {
          "base_uri": "https://localhost:8080/"
        },
        "id": "yEtDr1xPTzL4",
        "outputId": "daffb2d2-4906-493f-9438-cab0f2541a2d"
      },
      "execution_count": null,
      "outputs": [
        {
          "output_type": "stream",
          "name": "stdout",
          "text": [
            "Mustang\n",
            "{'brand': 'Ford', 'model': 'Mustang', 'year': 2020, 'color': 'blue'}\n"
          ]
        }
      ]
    },
    {
      "cell_type": "markdown",
      "source": [
        "#IF...Else:\n"
      ],
      "metadata": {
        "id": "bmKe1RPQiDsW"
      }
    },
    {
      "cell_type": "code",
      "source": [
        "#ShortHand Techniue: Using Ternary Operator in Python.\n",
        "a = 2\n",
        "b = 330\n",
        "print(\"A\") if a > b else print(\"B\")"
      ],
      "metadata": {
        "colab": {
          "base_uri": "https://localhost:8080/"
        },
        "id": "_AwHGM1qiDMq",
        "outputId": "f9e407d1-002e-4c89-b9b7-ad6d07b9efcf"
      },
      "execution_count": null,
      "outputs": [
        {
          "output_type": "stream",
          "name": "stdout",
          "text": [
            "B\n"
          ]
        }
      ]
    },
    {
      "cell_type": "markdown",
      "source": [
        "#Match (Python's switch)\n",
        "\n",
        "match expression: <br>\n",
        "  case x:<br>\n",
        "  [indentation]code block<br>\n",
        "  case y:<br>\n",
        "   [indentation]code block<br>\n",
        "  case z:<br>\n",
        "   [indentation]code block<br>\n",
        "\n",
        "   use _ for default: (case _:) and | to join (case 1| 2| 3| 4)"
      ],
      "metadata": {
        "id": "LgjtR23Kijph"
      }
    },
    {
      "cell_type": "code",
      "source": [
        "day = 4\n",
        "match day:\n",
        "  case 1:\n",
        "    print(\"Monday\")\n",
        "  case 2:\n",
        "    print(\"Tuesday\")\n",
        "  case 3:\n",
        "    print(\"Wednesday\")\n",
        "  case 4:\n",
        "    print(\"Thursday\")\n",
        "  case 5:\n",
        "    print(\"Friday\")\n",
        "  case 6:\n",
        "    print(\"Saturday\")\n",
        "  case 7:\n",
        "    print(\"Sunday\")"
      ],
      "metadata": {
        "colab": {
          "base_uri": "https://localhost:8080/"
        },
        "id": "pE32oHdfiQZx",
        "outputId": "d7ad76fc-832c-4ef7-b13f-077ddda9476c"
      },
      "execution_count": null,
      "outputs": [
        {
          "output_type": "stream",
          "name": "stdout",
          "text": [
            "Thursday\n"
          ]
        }
      ]
    },
    {
      "cell_type": "markdown",
      "source": [
        "#While loop:\n",
        "* We can use break to stop the loop even if while condition is true.\n",
        "* We can use continue to stop the current iteration and move to next.\n",
        "* We can also use while...else: which runs the else statement after while condition becomes false."
      ],
      "metadata": {
        "id": "gVYuZa1vjibp"
      }
    },
    {
      "cell_type": "code",
      "source": [
        "i = 1\n",
        "while i < 6:\n",
        "  print(i)\n",
        "  i += 1\n",
        "else:\n",
        "  print(\"i is no longer less than 6\")"
      ],
      "metadata": {
        "colab": {
          "base_uri": "https://localhost:8080/"
        },
        "id": "Vg6y7tyIkezb",
        "outputId": "afe37827-ca0c-4e79-cd57-d680364b812c"
      },
      "execution_count": null,
      "outputs": [
        {
          "output_type": "stream",
          "name": "stdout",
          "text": [
            "1\n",
            "2\n",
            "3\n",
            "4\n",
            "5\n",
            "i is no longer less than 6\n"
          ]
        }
      ]
    },
    {
      "cell_type": "markdown",
      "source": [
        "#For Loop:\n",
        "* range(val): From 0 to val-1\n",
        "* range(start,val): from start to val-1\n",
        "* range(start, val, increment):  from start to val-1 with increment in each iteration.\n"
      ],
      "metadata": {
        "id": "Cj8MPr7QkgD0"
      }
    },
    {
      "cell_type": "code",
      "source": [
        "fruits = [\"apple\", \"banana\", \"cherry\"]\n",
        "for x in fruits:\n",
        "  if x == \"banana\":\n",
        "    continue\n",
        "  print(x)\n",
        "for a in range(5,100,20):\n",
        "  print(a)"
      ],
      "metadata": {
        "colab": {
          "base_uri": "https://localhost:8080/"
        },
        "id": "qXEOehsllX2F",
        "outputId": "dd8f576b-537c-4675-b3e9-de4841b09dd4"
      },
      "execution_count": null,
      "outputs": [
        {
          "output_type": "stream",
          "name": "stdout",
          "text": [
            "apple\n",
            "cherry\n",
            "5\n",
            "25\n",
            "45\n",
            "65\n",
            "85\n"
          ]
        }
      ]
    },
    {
      "cell_type": "code",
      "source": [
        "mystr = \"banana\"\n",
        "myit = iter(mystr)\n",
        "\n",
        "print(next(myit))\n",
        "print(next(myit))\n",
        "print(next(myit))\n",
        "print(next(myit))\n",
        "print(next(myit))\n",
        "print(next(myit))"
      ],
      "metadata": {
        "colab": {
          "base_uri": "https://localhost:8080/"
        },
        "id": "K1ynv2zdloET",
        "outputId": "2a602fc7-a7b1-4ac5-d3c5-c84832459bf1"
      },
      "execution_count": null,
      "outputs": [
        {
          "output_type": "stream",
          "name": "stdout",
          "text": [
            "b\n",
            "a\n",
            "n\n",
            "a\n",
            "n\n",
            "a\n"
          ]
        }
      ]
    }
  ]
}